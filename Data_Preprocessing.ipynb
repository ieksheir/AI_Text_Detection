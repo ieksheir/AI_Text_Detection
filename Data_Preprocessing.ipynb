{
  "nbformat": 4,
  "nbformat_minor": 0,
  "metadata": {
    "colab": {
      "provenance": []
    },
    "kernelspec": {
      "name": "python3",
      "display_name": "Python 3"
    },
    "language_info": {
      "name": "python"
    }
  },
  "cells": [
    {
      "cell_type": "markdown",
      "source": [
        "#Preprocessing for AI Detection\n",
        "For now, using this dataset:\n",
        "https://www.kaggle.com/datasets/mtesconi/twitter-deep-fake-text\n",
        "\n",
        "Tokenization?\n",
        "Idk how this works"
      ],
      "metadata": {
        "id": "cxSNuqUmBTor"
      }
    },
    {
      "cell_type": "code",
      "execution_count": null,
      "metadata": {
        "id": "2U86fLUGAhRa"
      },
      "outputs": [],
      "source": [
        "import pandas as pd\n",
        "import tensorflow as tf"
      ]
    },
    {
      "cell_type": "code",
      "source": [],
      "metadata": {
        "id": "9KXtdSCgCLYX"
      },
      "execution_count": null,
      "outputs": []
    }
  ]
}