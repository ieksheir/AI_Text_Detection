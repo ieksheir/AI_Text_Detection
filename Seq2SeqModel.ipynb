{
  "nbformat": 4,
  "nbformat_minor": 0,
  "metadata": {
    "colab": {
      "provenance": []
    },
    "kernelspec": {
      "name": "python3",
      "display_name": "Python 3"
    },
    "language_info": {
      "name": "python"
    }
  },
  "cells": [
    {
      "cell_type": "markdown",
      "source": [
        "#Sequence to Sequence Model for AI Text Detection\n",
        "\n",
        "idk how this works either yet but we definitely want attention"
      ],
      "metadata": {
        "id": "5OK_2ilzCSvr"
      }
    },
    {
      "cell_type": "code",
      "execution_count": null,
      "metadata": {
        "id": "EnucJ5TCCPQs"
      },
      "outputs": [],
      "source": [
        "import pandas as pd\n",
        "import tensorflow as tf"
      ]
    }
  ]
}